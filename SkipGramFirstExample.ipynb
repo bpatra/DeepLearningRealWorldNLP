{
 "cells": [
  {
   "cell_type": "code",
   "execution_count": 46,
   "metadata": {},
   "outputs": [
    {
     "name": "stdout",
     "output_type": "stream",
     "text": [
      "The autoreload extension is already loaded. To reload it, use:\n",
      "  %reload_ext autoreload\n"
     ]
    }
   ],
   "source": [
    "%load_ext autoreload\n",
    "%autoreload 2\n",
    "%config IPCompleter.greedy=True\n",
    "#import pixiedust\n",
    "\n",
    "import logging\n",
    "logger = logging.getLogger()\n",
    "logger.setLevel(logging.DEBUG)\n",
    "\n",
    "from collections import Counter\n",
    "\n",
    "import pickle\n",
    "import torch\n",
    "import torch.optim as optim\n",
    "from allennlp.data.iterators import BasicIterator\n",
    "from allennlp.data.vocabulary import Vocabulary\n",
    "from allennlp.models import Model\n",
    "from allennlp.modules.token_embedders import Embedding\n",
    "from allennlp.training.trainer import Trainer\n",
    "from torch.nn import CosineSimilarity\n",
    "from torch.nn import functional"
   ]
  },
  {
   "cell_type": "code",
   "execution_count": 47,
   "metadata": {},
   "outputs": [
    {
     "name": "stdout",
     "output_type": "stream",
     "text": [
      "Using device: cuda\n"
     ]
    }
   ],
   "source": [
    "device = torch.device('cuda' if torch.cuda.is_available() else 'cpu')\n",
    "print('Using device:', device)"
   ]
  },
  {
   "cell_type": "code",
   "execution_count": 48,
   "metadata": {},
   "outputs": [
    {
     "name": "stdout",
     "output_type": "stream",
     "text": [
      "Tesla K80\n",
      "Memory Usage:\n",
      "Allocated: 0.0 GB\n",
      "Cached:    0.1 GB\n"
     ]
    }
   ],
   "source": [
    "if device.type == 'cuda':\n",
    "    print(torch.cuda.get_device_name(0))\n",
    "    print('Memory Usage:')\n",
    "    print('Allocated:', round(torch.cuda.memory_allocated(0)/1024**3,1), 'GB')\n",
    "    print('Cached:   ', round(torch.cuda.memory_cached(0)/1024**3,1), 'GB')"
   ]
  },
  {
   "cell_type": "code",
   "execution_count": 49,
   "metadata": {},
   "outputs": [],
   "source": [
    "from word2vec import SkipGramReader"
   ]
  },
  {
   "cell_type": "code",
   "execution_count": 50,
   "metadata": {},
   "outputs": [],
   "source": [
    "EMBEDDING_DIM = 256\n",
    "BATCH_SIZE = 256"
   ]
  },
  {
   "cell_type": "code",
   "execution_count": 51,
   "metadata": {},
   "outputs": [],
   "source": [
    "class SkipGramModel(Model):\n",
    "    def __init__(self, vocab, embedding_in):\n",
    "        super().__init__(vocab)\n",
    "        self.embedding_in = embedding_in\n",
    "        self.linear = torch.nn.Linear(\n",
    "            in_features=EMBEDDING_DIM,\n",
    "            out_features=vocab.get_vocab_size('token_out'),\n",
    "            bias=False)\n",
    "\n",
    "    def forward(self, token_in, token_out):\n",
    "        embedded_in = self.embedding_in(token_in)\n",
    "        logits = self.linear(embedded_in)\n",
    "        loss = functional.cross_entropy(logits, token_out)\n",
    "\n",
    "        return {'loss': loss}"
   ]
  },
  {
   "cell_type": "code",
   "execution_count": 52,
   "metadata": {},
   "outputs": [],
   "source": [
    "def get_related(token: str, embedding: Model, vocab: Vocabulary, num_synonyms: int = 10):\n",
    "    \"\"\"Given a token, return a list of top N most similar words to the token.\"\"\"\n",
    "    token_id = vocab.get_token_index(token, 'token_in')\n",
    "    token_vec = embedding.weight[token_id]\n",
    "    cosine = CosineSimilarity(dim=0)\n",
    "    sims = Counter()\n",
    "\n",
    "    for index, token in vocab.get_index_to_token_vocabulary('token_in').items():\n",
    "        sim = cosine(token_vec, embedding.weight[index]).item()\n",
    "        sims[token] = sim\n",
    "\n",
    "    return sims.most_common(num_synonyms)"
   ]
  },
  {
   "cell_type": "code",
   "execution_count": 53,
   "metadata": {},
   "outputs": [],
   "source": [
    "RAW_FILE='./inputs/text8'\n",
    "SAVE_VOCAB=\"./outputs/text81e6.vocab\""
   ]
  },
  {
   "cell_type": "markdown",
   "metadata": {},
   "source": [
    "reader = SkipGramReader(kept_tokens=int(1e6))\n",
    "text8 = reader.read(RAW_FILE)\n",
    "vocab = Vocabulary.from_instances(\n",
    "    text8, min_count={'token_in': 5, 'token_out': 5})\n",
    "\n",
    "vocab.save_to_files(SAVE_VOCAB)"
   ]
  },
  {
   "cell_type": "code",
   "execution_count": 54,
   "metadata": {
    "scrolled": true
   },
   "outputs": [
    {
     "name": "stderr",
     "output_type": "stream",
     "text": [
      "INFO:allennlp.data.vocabulary:Loading token dictionary from ./outputs/text81e6.vocab.\n"
     ]
    }
   ],
   "source": [
    "vocab = Vocabulary.from_files(\"./outputs/text81e6.vocab\")"
   ]
  },
  {
   "cell_type": "code",
   "execution_count": 55,
   "metadata": {},
   "outputs": [
    {
     "name": "stderr",
     "output_type": "stream",
     "text": [
      "INFO:allennlp.data.vocabulary:Vocabulary statistics cannot be printed since dataset instances were not used for its construction.\n"
     ]
    }
   ],
   "source": [
    "vocab.print_statistics()"
   ]
  },
  {
   "cell_type": "code",
   "execution_count": 56,
   "metadata": {},
   "outputs": [],
   "source": [
    "iterator = BasicIterator(batch_size=BATCH_SIZE)\n",
    "iterator.index_with(vocab)"
   ]
  },
  {
   "cell_type": "code",
   "execution_count": 57,
   "metadata": {},
   "outputs": [],
   "source": [
    "embedding_in = Embedding(num_embeddings=vocab.get_vocab_size('token_in'),\n",
    "                         embedding_dim=EMBEDDING_DIM)"
   ]
  },
  {
   "cell_type": "markdown",
   "metadata": {},
   "source": [
    "model = SkipGramModel(vocab=vocab,\n",
    "                      embedding_in=embedding_in)\n",
    "model.to(device)\n",
    "optimizer = optim.Adam(model.parameters())\n",
    "trainer = Trainer(model=model,\n",
    "                  optimizer=optimizer,\n",
    "                  iterator=iterator,\n",
    "                  train_dataset=text8,\n",
    "                  num_epochs=5, serialization_dir='./outputs/model_save',cuda_device=0)\n",
    "trainer.train()"
   ]
  },
  {
   "cell_type": "code",
   "execution_count": 58,
   "metadata": {},
   "outputs": [],
   "source": [
    "model = SkipGramModel(vocab=vocab,\n",
    "                      embedding_in=embedding_in)\n",
    "\n",
    "with open(\"./outputs/model_save/best.th\", 'rb') as f:\n",
    "    model.load_state_dict(torch.load(f))"
   ]
  },
  {
   "cell_type": "code",
   "execution_count": 59,
   "metadata": {},
   "outputs": [
    {
     "name": "stdout",
     "output_type": "stream",
     "text": [
      "[('one', 1.0), ('nine', 0.8553415536880493), ('eight', 0.7905139327049255), ('six', 0.7360547780990601), ('seven', 0.7323039770126343), ('five', 0.7249915599822998), ('four', 0.7088095545768738), ('three', 0.6642517447471619), ('two', 0.6638907790184021), ('zero', 0.5777777433395386)]\n"
     ]
    }
   ],
   "source": [
    "print(get_related('one', embedding_in, vocab))"
   ]
  },
  {
   "cell_type": "code",
   "execution_count": 60,
   "metadata": {},
   "outputs": [
    {
     "name": "stdout",
     "output_type": "stream",
     "text": [
      "[('december', 1.0), ('january', 0.5533888339996338), ('climatolgy', 0.4994937777519226), ('november', 0.4932716488838196), ('june', 0.49156075716018677), ('october', 0.4878476560115814), ('march', 0.4642040431499481), ('september', 0.45833346247673035), ('april', 0.4539671838283539), ('yorktown', 0.4322149455547333)]\n"
     ]
    }
   ],
   "source": [
    "print(get_related('december', embedding_in, vocab))"
   ]
  },
  {
   "cell_type": "code",
   "execution_count": null,
   "metadata": {},
   "outputs": [],
   "source": []
  }
 ],
 "metadata": {
  "kernelspec": {
   "display_name": "Python 3",
   "language": "python",
   "name": "python3"
  },
  "language_info": {
   "codemirror_mode": {
    "name": "ipython",
    "version": 3
   },
   "file_extension": ".py",
   "mimetype": "text/x-python",
   "name": "python",
   "nbconvert_exporter": "python",
   "pygments_lexer": "ipython3",
   "version": "3.6.9"
  }
 },
 "nbformat": 4,
 "nbformat_minor": 4
}
